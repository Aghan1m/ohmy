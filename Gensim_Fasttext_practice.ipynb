{
 "cells": [
  {
   "cell_type": "markdown",
   "metadata": {},
   "source": [
    "--- \n",
    "# Gensim\n",
    "> Gensim即\"Generate similarity\"，支持LDA和LSI算法，比起其他的工具包(例如scikit、R等)有更多便利的功能。\n",
    " Gensim用于文本处理，与诸如Word2Vec，FastText等词向量模型共同建立主题模型。\n",
    " Gensim有个显著的好处：处理大文本文件时不需要将整个文件加载到内存。\n",
    "\n",
    "\n",
    "## 应用 \n",
    "Harry Potter\n",
    "\n",
    "使用gensim处理哈利波特1-7"
   ]
  },
  {
   "cell_type": "code",
   "execution_count": 98,
   "metadata": {},
   "outputs": [],
   "source": [
    "# imports needed and set up logging\n",
    "import gensim \n",
    "import logging\n",
    "import os\n",
    "\n",
    "from gensim.parsing.preprocessing import STOPWORDS\n",
    "from gensim.parsing.preprocessing import remove_stopwords\n",
    "\n",
    "logging.basicConfig(format='%(asctime)s : %(levelname)s : %(message)s', level=logging.INFO)"
   ]
  },
  {
   "cell_type": "code",
   "execution_count": 99,
   "metadata": {},
   "outputs": [],
   "source": [
    "filePath = './harry/'\n",
    "data_file = []\n",
    "for i,j,k in os.walk(filePath):\n",
    "    data_file = k   "
   ]
  },
  {
   "cell_type": "code",
   "execution_count": null,
   "metadata": {},
   "outputs": [],
   "source": [
    "def read_input(input_file):\n",
    "    \"\"\"This method reads the input file which is in gzip format\"\"\"\n",
    "    \n",
    "    logging.info(\"reading file {0}...this may take a while\".format(input_file))\n",
    "    for filename in input_file: \n",
    "        with open (filePath + filename) as f:\n",
    "            for i, line in enumerate (f): \n",
    "                if (i%1000==0):\n",
    "                    logging.info (\"read {0} line\".format (i))\n",
    "                yield gensim.utils.simple_preprocess (remove_stopwords(line))\n",
    "\n",
    "documents = list (read_input (data_file))\n",
    "logging.info (\"Done reading data file\")"
   ]
  },
  {
   "cell_type": "markdown",
   "metadata": {},
   "source": [
    "使用Word2Vec模型训练"
   ]
  },
  {
   "cell_type": "code",
   "execution_count": null,
   "metadata": {},
   "outputs": [],
   "source": [
    "model = gensim.models.Word2Vec (documents, size=150, window=10, min_count=2, workers=10)\n",
    "model.train(documents,total_examples=len(documents),epochs=10)"
   ]
  },
  {
   "cell_type": "code",
   "execution_count": 102,
   "metadata": {},
   "outputs": [
    {
     "name": "stderr",
     "output_type": "stream",
     "text": [
      "2019-12-10 10:06:44,062 : INFO : precomputing L2-norms of word weight vectors\n"
     ]
    },
    {
     "data": {
      "text/plain": [
       "[('ravenclaw', 0.8368150591850281),\n",
       " ('hufflepuff', 0.8280871510505676),\n",
       " ('slytherin', 0.7947815656661987),\n",
       " ('points', 0.7544464468955994),\n",
       " ('penalty', 0.747697114944458),\n",
       " ('goal', 0.7353691458702087),\n",
       " ('team', 0.7298713326454163),\n",
       " ('cheering', 0.6956561207771301),\n",
       " ('tower', 0.6929386258125305),\n",
       " ('chaser', 0.692872941493988)]"
      ]
     },
     "execution_count": 102,
     "metadata": {},
     "output_type": "execute_result"
    }
   ],
   "source": [
    "# 测试与”格兰芬多“相似的词语\n",
    "w1 = \"gryffindor\"\n",
    "model.wv.most_similar (positive=w1)"
   ]
  },
  {
   "cell_type": "code",
   "execution_count": 106,
   "metadata": {},
   "outputs": [
    {
     "data": {
      "text/plain": [
       "[('furiously', 0.6423398852348328),\n",
       " ('both', 0.6290283203125),\n",
       " ('nervously', 0.6139020323753357),\n",
       " ('awkwardly', 0.6138213872909546),\n",
       " ('groggily', 0.6112465262413025),\n",
       " ('griphook', 0.5974970459938049),\n",
       " ('cho', 0.5930269360542297),\n",
       " ('ginny', 0.5894877910614014),\n",
       " ('lavender', 0.587001621723175),\n",
       " ('eagerly', 0.5856419205665588)]"
      ]
     },
     "execution_count": 106,
     "metadata": {},
     "output_type": "execute_result"
    }
   ],
   "source": [
    "w1 = [\"ron\",'harry', 'hermione']\n",
    "w2 = [\"malfoy\"]\n",
    "model.wv.most_similar (positive=w1)"
   ]
  },
  {
   "cell_type": "code",
   "execution_count": 104,
   "metadata": {},
   "outputs": [
    {
     "data": {
      "text/plain": [
       "[('quirrell', 0.6694686412811279),\n",
       " ('slughorn', 0.6288319826126099),\n",
       " ('scrimgeour', 0.6079066395759583),\n",
       " ('fudge', 0.6000068187713623),\n",
       " ('dippet', 0.599680483341217),\n",
       " ('aberforth', 0.5885795950889587),\n",
       " ('headmaster', 0.5841313004493713),\n",
       " ('karkaroff', 0.5769506692886353),\n",
       " ('trelawney', 0.5737648010253906),\n",
       " ('kettleburn', 0.5608559250831604)]"
      ]
     },
     "execution_count": 104,
     "metadata": {},
     "output_type": "execute_result"
    }
   ],
   "source": [
    "w1 = \"dumbledore\"\n",
    "model.wv.most_similar (positive=w1)"
   ]
  },
  {
   "cell_type": "code",
   "execution_count": 111,
   "metadata": {},
   "outputs": [
    {
     "data": {
      "text/plain": [
       "[('auburn', 0.5743957757949829),\n",
       " ('beard', 0.5336969494819641),\n",
       " ('lupin', 0.5283984541893005),\n",
       " ('sightless', 0.5270783305168152),\n",
       " ('shard', 0.5236501097679138),\n",
       " ('slighter', 0.5217884182929993),\n",
       " ('inherit', 0.5199994444847107),\n",
       " ('fawkes', 0.5195986032485962),\n",
       " ('silver', 0.5015254020690918),\n",
       " ('strand', 0.49161896109580994)]"
      ]
     },
     "execution_count": 111,
     "metadata": {},
     "output_type": "execute_result"
    }
   ],
   "source": [
    "# w1 = \"azkaban\"\n",
    "w1 = \"black\"\n",
    "model.wv.most_similar (positive=w1)"
   ]
  },
  {
   "cell_type": "markdown",
   "metadata": {},
   "source": [
    "## Gensim 文件结构分析\n",
    "\n",
    "文件结构\n",
    "- corpora/\n",
    "\n",
    "- models/\n",
    "\n",
    "- parsing/\n",
    "\n",
    "- scripts/\n",
    "\n",
    "- similarities/\n",
    "\n",
    "- sklearn_api/\n",
    "\n",
    "- summarization/\n",
    "\n",
    "- test/\n",
    "\n",
    "- topic_coherence/\n",
    "\n",
    "- viz\n",
    "\n",
    "- downloader.py\n",
    "\n",
    "- interfaces.py\n",
    "\n",
    "- matutils.py\n",
    "\n",
    "- nosy.py\n",
    "\n",
    "- utils.py\n",
    "\n",
    "\n",
    "### corpora\n",
    "内含各种类型的语料库(文档集)\n",
    "\n",
    "dictionary.py中的Dictionary类使用频率较高，可以为单个word生成稀疏向量表示\n",
    "\n",
    "Dictionary可以保存、加载语料库，也可以过滤word\n",
    "\n",
    "### models\n",
    "内含各种类型的model\n",
    "\n",
    "比如word2vec、lda、hda。lsi、fasttext、logentropy等\n",
    "\n",
    "### parsing\n",
    "主要包括词干提取算法、去除停用词、预处理字符串等功能\n",
    "\n",
    "### scripts\n",
    "主要包括一些脚本，比如从wiki中导出文章\n",
    "\n",
    "### similarities\n",
    "包含计算相似度的算法，包括term之间的相似度，doc之间的相似度，计算字符编辑距离(Levenshtein distance)\n",
    "\n",
    "### sklearn_api\n",
    "封装了scikit-learn库的函数\n",
    "\n",
    "### summarization\n",
    "包含文本摘要、PageRank、TextRank等算法，以及无向图的一些基本操作\n",
    "\n",
    "### test\n",
    "测试包，里边的文件都可以独立执行，验证效果\n",
    "\n",
    "### topic_coherence\n",
    "用于计算主题一致性，包含Segmentation、Probability Estimation、Confirmation Measure、Aggregation等\n",
    "\n",
    "### viz\n",
    "用于可视化gensim中的各种模型\n",
    "\n",
    "### downloader\n",
    "数据集下载器\n",
    "\n",
    "### interfaces\n",
    "定义了基础的接口(基类)\n",
    "\n",
    "### matutils\n",
    "数学方法工具包\n",
    "\n",
    "### nosy\n",
    "测试工具\n",
    "\n",
    "### util\n",
    "基础工具包，包括打开文件，转换小写，转换编码格式，保存/加载对象等功能"
   ]
  },
  {
   "cell_type": "markdown",
   "metadata": {},
   "source": [
    "## 参考文献\n",
    "*Gensim Word2Vec Tutorial – Full Working Example  https://kavita-ganesan.com/gensim-word2vec-tutorial-starter-code/#.Xe5O-5MzY1J*\n",
    "\n",
    "*Gensim Tutorial – A Complete Beginners Guide https://www.machinelearningplus.com/nlp/gensim-tutorial/ *\n",
    "\n",
    "*Gensim官方指南 https://radimrehurek.com/gensim/auto_examples/*\n",
    "\n",
    "*FastText官网 https://fasttext.cc/*\n",
    "\n",
    "*使用Gensim实现Word2Vec和FastText词嵌入 https://zhuanlan.zhihu.com/p/59860985*"
   ]
  },
  {
   "cell_type": "markdown",
   "metadata": {},
   "source": [
    "---\n",
    "# FastText\n",
    "> FastText的优点是开源、免费、轻量级，适用于文本分类和文本向量化表示场景。\n",
    "fasttext只有1层神经网络，属于所谓的shallow learning，但是fasttext的效果并不差，而且具备学习和预测速度快的优势，在工业界这点非常重要。它比一般的神经网络模型的精确度还要高。\n",
    "\n"
   ]
  },
  {
   "cell_type": "markdown",
   "metadata": {},
   "source": [
    "### 监督学习"
   ]
  },
  {
   "cell_type": "code",
   "execution_count": 142,
   "metadata": {},
   "outputs": [],
   "source": [
    "import fasttext\n",
    "import numpy as np\n",
    "\n",
    "input_file = \"fasttext/cooking.train\"\n",
    "test_file = \"fasttext/cooking.valid\""
   ]
  },
  {
   "cell_type": "code",
   "execution_count": 143,
   "metadata": {},
   "outputs": [],
   "source": [
    "model = fasttext.train_supervised(input=input_file, lr=1.0, epoch=25, wordNgrams=2)"
   ]
  },
  {
   "cell_type": "code",
   "execution_count": 145,
   "metadata": {},
   "outputs": [],
   "source": [
    "model.save_model(\"model_cooking.bin\")"
   ]
  },
  {
   "cell_type": "code",
   "execution_count": 146,
   "metadata": {},
   "outputs": [
    {
     "data": {
      "text/plain": [
       "(('__label__baking',), array([0.15613931]))"
      ]
     },
     "execution_count": 146,
     "metadata": {},
     "output_type": "execute_result"
    }
   ],
   "source": [
    "model.predict(\"Which baking dish is best to bake a banana bread ?\")\n",
    "((u'__label__baking',), np.array([0.15613931]))"
   ]
  },
  {
   "cell_type": "code",
   "execution_count": 147,
   "metadata": {},
   "outputs": [
    {
     "data": {
      "text/plain": [
       "(('__label__food-safety',), array([0.08686075]))"
      ]
     },
     "execution_count": 147,
     "metadata": {},
     "output_type": "execute_result"
    }
   ],
   "source": [
    "model.predict(\"Why not put knives in the dishwasher?\")\n",
    "((u'__label__food-safety',), np.array([0.08686075]))"
   ]
  },
  {
   "cell_type": "code",
   "execution_count": 148,
   "metadata": {},
   "outputs": [
    {
     "data": {
      "text/plain": [
       "(3000, 0.5603333333333333, 0.24232377108260056)"
      ]
     },
     "execution_count": 148,
     "metadata": {},
     "output_type": "execute_result"
    }
   ],
   "source": [
    "#输出： 样本数 查准率 召回率\n",
    "model.test(test_file)"
   ]
  },
  {
   "cell_type": "code",
   "execution_count": 149,
   "metadata": {},
   "outputs": [
    {
     "data": {
      "text/plain": [
       "(3000, 0.23466666666666666, 0.5074239584834943)"
      ]
     },
     "execution_count": 149,
     "metadata": {},
     "output_type": "execute_result"
    }
   ],
   "source": [
    "model.test(test_file, k=5)"
   ]
  },
  {
   "cell_type": "markdown",
   "metadata": {},
   "source": [
    "## 提升性能的方法\n",
    "*预处理*\n",
    "\n",
    "*-epoch* 设置迭代次数 \n",
    "\n",
    "*-lr* 设置学习速率\n",
    "\n",
    "*-wordNgrams* 设置n-grams"
   ]
  },
  {
   "cell_type": "markdown",
   "metadata": {},
   "source": [
    "### 无监督学习"
   ]
  },
  {
   "cell_type": "code",
   "execution_count": 151,
   "metadata": {},
   "outputs": [],
   "source": [
    "# Skipgram model :\n",
    "skip_model = fasttext.train_unsupervised(input_file, model='skipgram')\n",
    "\n",
    "# or, cbow model :\n",
    "cbow_model = fasttext.train_unsupervised(input_file, model='cbow')"
   ]
  },
  {
   "cell_type": "code",
   "execution_count": 169,
   "metadata": {},
   "outputs": [
    {
     "name": "stdout",
     "output_type": "stream",
     "text": [
      "[-0.19465187 -0.04479896  0.10065624 -0.09421343 -0.02800996  0.21732694\n",
      "  0.0077522  -0.2412107   0.09359407  0.17727724  0.05896186 -0.18488593\n",
      "  0.01513194  0.15166113 -0.20329717 -0.0552001   0.42683694  0.00910661\n",
      "  0.00961484 -0.44683605  0.04435758  0.21829973  0.17575434 -0.14606005\n",
      " -0.10665243  0.08387621 -0.03283828 -0.02797444 -0.12167862  0.17336623\n",
      " -0.17679827  0.11651226 -0.18751463  0.00174165 -0.41835696 -0.17673816\n",
      "  0.08096708 -0.20303598 -0.31645945  0.06861698  0.21559025  0.1396372\n",
      "  0.14146456  0.16863847  0.07490897  0.0116991   0.16614494  0.2089593\n",
      " -0.18916611 -0.01394802 -0.21171027  0.06075156  0.0399274   0.43547487\n",
      " -0.05727803  0.02331961 -0.11587591  0.0668207   0.2183619  -0.07176779\n",
      " -0.04831386  0.31906065  0.10926004  0.04284213  0.13000582  0.04012791\n",
      " -0.09185615  0.35881975 -0.27305296 -0.14017381 -0.153338   -0.03606869\n",
      "  0.3065175  -0.33615887 -0.3371137  -0.1051529   0.13978297  0.226356\n",
      "  0.06097033  0.10392857 -0.09528024  0.29116046  0.09591603  0.14119829\n",
      " -0.12853931 -0.01588185 -0.16494992  0.05728934  0.3184535   0.26291373\n",
      "  0.35050708 -0.07680756  0.27723882 -0.1907171  -0.02547274 -0.13348278\n",
      " -0.13915177  0.09102795 -0.20560063 -0.06583065]\n",
      "[-0.33493784 -0.10418532  0.19288555 -0.01614315  0.10011041  0.23471981\n",
      "  0.03406423 -0.24404953  0.08595848  0.22848254  0.003607   -0.17094012\n",
      "  0.08284683 -0.00463706 -0.14586852  0.00105621  0.43698174  0.05389548\n",
      " -0.07238291 -0.5083192   0.00412114  0.39209005  0.29678175 -0.04833782\n",
      " -0.24719977  0.20320424 -0.0696809   0.01187763 -0.02672263  0.00447042\n",
      " -0.14104913  0.16982497 -0.16750747 -0.06036973 -0.4540276  -0.14136617\n",
      "  0.11084037 -0.38753772 -0.2219694   0.18250047  0.2424789   0.02152487\n",
      "  0.12207846  0.11912917  0.16401175  0.09720892  0.1903937   0.29806456\n",
      " -0.02759703 -0.2997499  -0.28823012  0.0680689   0.20271893  0.45830035\n",
      "  0.00222017  0.05028942 -0.22025801  0.2284014   0.44375446 -0.18972802\n",
      " -0.15594375  0.35257712  0.17183404 -0.01226057  0.17791972  0.0851055\n",
      " -0.12890814  0.3763002  -0.46463412 -0.25624838 -0.17769468 -0.19470379\n",
      "  0.4587091  -0.36549366 -0.28361496 -0.1034703   0.16579568  0.2937373\n",
      "  0.02732313  0.14524952 -0.07512996  0.41209462 -0.00329787  0.2651151\n",
      " -0.27630916  0.18143748 -0.17016496  0.04769963  0.27566594  0.32229716\n",
      "  0.3668678   0.02817702  0.1404737  -0.17176524  0.05698291 -0.17603153\n",
      " -0.19111109  0.00796013 -0.3222592   0.05299968]\n"
     ]
    }
   ],
   "source": [
    "# print(skip_model.words)\n",
    "print(skip_model['wrapped']) \n",
    "# print(cbow_model.words)\n",
    "print(cbow_model['wrapped']) "
   ]
  },
  {
   "cell_type": "code",
   "execution_count": 170,
   "metadata": {},
   "outputs": [],
   "source": [
    "skip_model.save_model(\"skip_model_cooking.bin\")\n",
    "cbow_model.save_model(\"cbow_model_cooking.bin\")"
   ]
  },
  {
   "cell_type": "code",
   "execution_count": 171,
   "metadata": {},
   "outputs": [
    {
     "name": "stderr",
     "output_type": "stream",
     "text": [
      "\n",
      "\n"
     ]
    }
   ],
   "source": [
    "s_model = fasttext.load_model(\"skip_model_cooking.bin\")\n",
    "c_model = fasttext.load_model(\"cbow_model_cooking.bin\")"
   ]
  },
  {
   "cell_type": "code",
   "execution_count": 172,
   "metadata": {},
   "outputs": [
    {
     "name": "stdout",
     "output_type": "stream",
     "text": [
      "[-0.19465187 -0.04479896  0.10065624 -0.09421343 -0.02800996  0.21732694\n",
      "  0.0077522  -0.2412107   0.09359407  0.17727724  0.05896186 -0.18488593\n",
      "  0.01513194  0.15166113 -0.20329717 -0.0552001   0.42683694  0.00910661\n",
      "  0.00961484 -0.44683605  0.04435758  0.21829973  0.17575434 -0.14606005\n",
      " -0.10665243  0.08387621 -0.03283828 -0.02797444 -0.12167862  0.17336623\n",
      " -0.17679827  0.11651226 -0.18751463  0.00174165 -0.41835696 -0.17673816\n",
      "  0.08096708 -0.20303598 -0.31645945  0.06861698  0.21559025  0.1396372\n",
      "  0.14146456  0.16863847  0.07490897  0.0116991   0.16614494  0.2089593\n",
      " -0.18916611 -0.01394802 -0.21171027  0.06075156  0.0399274   0.43547487\n",
      " -0.05727803  0.02331961 -0.11587591  0.0668207   0.2183619  -0.07176779\n",
      " -0.04831386  0.31906065  0.10926004  0.04284213  0.13000582  0.04012791\n",
      " -0.09185615  0.35881975 -0.27305296 -0.14017381 -0.153338   -0.03606869\n",
      "  0.3065175  -0.33615887 -0.3371137  -0.1051529   0.13978297  0.226356\n",
      "  0.06097033  0.10392857 -0.09528024  0.29116046  0.09591603  0.14119829\n",
      " -0.12853931 -0.01588185 -0.16494992  0.05728934  0.3184535   0.26291373\n",
      "  0.35050708 -0.07680756  0.27723882 -0.1907171  -0.02547274 -0.13348278\n",
      " -0.13915177  0.09102795 -0.20560063 -0.06583065]\n",
      "[-0.33493784 -0.10418532  0.19288555 -0.01614315  0.10011041  0.23471981\n",
      "  0.03406423 -0.24404953  0.08595848  0.22848254  0.003607   -0.17094012\n",
      "  0.08284683 -0.00463706 -0.14586852  0.00105621  0.43698174  0.05389548\n",
      " -0.07238291 -0.5083192   0.00412114  0.39209005  0.29678175 -0.04833782\n",
      " -0.24719977  0.20320424 -0.0696809   0.01187763 -0.02672263  0.00447042\n",
      " -0.14104913  0.16982497 -0.16750747 -0.06036973 -0.4540276  -0.14136617\n",
      "  0.11084037 -0.38753772 -0.2219694   0.18250047  0.2424789   0.02152487\n",
      "  0.12207846  0.11912917  0.16401175  0.09720892  0.1903937   0.29806456\n",
      " -0.02759703 -0.2997499  -0.28823012  0.0680689   0.20271893  0.45830035\n",
      "  0.00222017  0.05028942 -0.22025801  0.2284014   0.44375446 -0.18972802\n",
      " -0.15594375  0.35257712  0.17183404 -0.01226057  0.17791972  0.0851055\n",
      " -0.12890814  0.3763002  -0.46463412 -0.25624838 -0.17769468 -0.19470379\n",
      "  0.4587091  -0.36549366 -0.28361496 -0.1034703   0.16579568  0.2937373\n",
      "  0.02732313  0.14524952 -0.07512996  0.41209462 -0.00329787  0.2651151\n",
      " -0.27630916  0.18143748 -0.17016496  0.04769963  0.27566594  0.32229716\n",
      "  0.3668678   0.02817702  0.1404737  -0.17176524  0.05698291 -0.17603153\n",
      " -0.19111109  0.00796013 -0.3222592   0.05299968]\n"
     ]
    }
   ],
   "source": [
    "print(s_model['wrapped']) \n",
    "print(c_model['wrapped']) "
   ]
  },
  {
   "cell_type": "markdown",
   "metadata": {},
   "source": [
    "## 参考文献\n",
    "*Fasttext supervised tutorial https://fasttext.cc/docs/en/supervised-tutorial.html*\n",
    "\n",
    "*Fasttext unsupervised tutorial https://pypi.org/project/fasttext/*"
   ]
  }
 ],
 "metadata": {
  "kernelspec": {
   "display_name": "Python 3",
   "language": "python",
   "name": "python3"
  },
  "language_info": {
   "codemirror_mode": {
    "name": "ipython",
    "version": 3
   },
   "file_extension": ".py",
   "mimetype": "text/x-python",
   "name": "python",
   "nbconvert_exporter": "python",
   "pygments_lexer": "ipython3",
   "version": "3.7.3"
  },
  "latex_envs": {
   "LaTeX_envs_menu_present": true,
   "autoclose": false,
   "autocomplete": true,
   "bibliofile": "biblio.bib",
   "cite_by": "apalike",
   "current_citInitial": 1,
   "eqLabelWithNumbers": true,
   "eqNumInitial": 1,
   "hotkeys": {
    "equation": "Ctrl-E",
    "itemize": "Ctrl-I"
   },
   "labels_anchors": false,
   "latex_user_defs": false,
   "report_style_numbering": false,
   "user_envs_cfg": false
  }
 },
 "nbformat": 4,
 "nbformat_minor": 2
}
